{
 "cells": [
  {
   "cell_type": "code",
   "execution_count": 1,
   "id": "133b638e",
   "metadata": {},
   "outputs": [
    {
     "ename": "NameError",
     "evalue": "name 'np' is not defined",
     "output_type": "error",
     "traceback": [
      "\u001b[0;31m---------------------------------------------------------------------------\u001b[0m",
      "\u001b[0;31mNameError\u001b[0m                                 Traceback (most recent call last)",
      "Cell \u001b[0;32mIn[1], line 3\u001b[0m\n\u001b[1;32m      1\u001b[0m sig_len \u001b[38;5;241m=\u001b[39m \u001b[38;5;241m64\u001b[39m\u001b[38;5;241m*\u001b[39m\u001b[38;5;241m8\u001b[39m\n\u001b[1;32m      2\u001b[0m n_per_batch \u001b[38;5;241m=\u001b[39m \u001b[38;5;241m100\u001b[39m\n\u001b[0;32m----> 3\u001b[0m all_sinr \u001b[38;5;241m=\u001b[39m np\u001b[38;5;241m.\u001b[39marange(\u001b[38;5;241m-\u001b[39m\u001b[38;5;241m30\u001b[39m, \u001b[38;5;241m0.1\u001b[39m, \u001b[38;5;241m3\u001b[39m)\n\u001b[1;32m      5\u001b[0m seed_number \u001b[38;5;241m=\u001b[39m \u001b[38;5;241m0\u001b[39m\n",
      "\u001b[0;31mNameError\u001b[0m: name 'np' is not defined"
     ]
    }
   ],
   "source": [
    "sig_len = 64*8\n",
    "n_per_batch = 100\n",
    "all_sinr = np.arange(-30, 0.1, 3)\n",
    "\n",
    "seed_number = 0"
   ]
  },
  {
   "cell_type": "code",
   "execution_count": null,
   "id": "8d138d1f",
   "metadata": {},
   "outputs": [],
   "source": [
    "def get_soi_generation_fn():\n",
    "    generate_soi = lambda n, s_len: rfcutils.generate_qpsk_signal(n, s_len//16)\n",
    "    demod_soi = rfcutils.qpsk_matched_filter_demod\n",
    "    return generate_soi, demod_soi"
   ]
  },
  {
   "cell_type": "code",
   "execution_count": null,
   "id": "c6b3f778",
   "metadata": {},
   "outputs": [],
   "source": [
    "generate_soi, demod_soi = get_soi_generation_fn() # Obtain relevant generation and demodulation function"
   ]
  },
  {
   "cell_type": "code",
   "execution_count": null,
   "id": "e20b509b",
   "metadata": {},
   "outputs": [],
   "source": [
    "sig, _, complex_bits, _ = generate_soi(n_per_batch, sig_len)\n",
    "# bits_demod, syms_demod = demod_soi(sig1)\n",
    "real_bits = complex_bits[:,0::2]\n",
    "sig_real = np.real(sig)\n",
    "print('# of bits: ', real_bits.shape)"
   ]
  },
  {
   "cell_type": "code",
   "execution_count": null,
   "id": "9a3ee33e",
   "metadata": {},
   "outputs": [],
   "source": [
    "plt.figure(figsize=(5,3))\n",
    "\n",
    "plt.plot(sig_real[0], color='tab:green')\n",
    "plt.show()"
   ]
  },
  {
   "cell_type": "code",
   "execution_count": null,
   "id": "7660d991",
   "metadata": {},
   "outputs": [],
   "source": []
  },
  {
   "cell_type": "code",
   "execution_count": null,
   "id": "025a1b57",
   "metadata": {},
   "outputs": [],
   "source": []
  },
  {
   "cell_type": "code",
   "execution_count": null,
   "id": "c91ad759",
   "metadata": {},
   "outputs": [],
   "source": []
  }
 ],
 "metadata": {
  "kernelspec": {
   "display_name": "Python 3 (ipykernel)",
   "language": "python",
   "name": "python3"
  },
  "language_info": {
   "codemirror_mode": {
    "name": "ipython",
    "version": 3
   },
   "file_extension": ".py",
   "mimetype": "text/x-python",
   "name": "python",
   "nbconvert_exporter": "python",
   "pygments_lexer": "ipython3",
   "version": "3.11.5"
  }
 },
 "nbformat": 4,
 "nbformat_minor": 5
}
